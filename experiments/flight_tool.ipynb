{
 "cells": [
  {
   "cell_type": "code",
   "execution_count": 5,
   "id": "fc315eb9",
   "metadata": {},
   "outputs": [],
   "source": [
    "from typing_extensions import TypedDict, Optional\n",
    "from pydantic import BaseModel, Field\n",
    "from langchain_core.messages import HumanMessage, SystemMessage\n",
    "from langchain_core.prompts import ChatPromptTemplate\n",
    "from serpapi import GoogleSearch\n",
    "from src.state.custom_state import FlightState\n",
    "import datetime\n",
    "import os \n",
    "from langchain_google_genai import ChatGoogleGenerativeAI"
   ]
  },
  {
   "cell_type": "code",
   "execution_count": null,
   "id": "f1d8b85b",
   "metadata": {},
   "outputs": [],
   "source": [
    "import os\n",
    "from dotenv import load_dotenv\n",
    "load_dotenv()\n",
    "# os.environ[\"GROQ_API_KEY\"]=os.getenv(\"GROQ_API_KEY\")\n",
    "# llm=ChatGroq(model=\"llama-3.3-70b-versatile\")\n",
    "# os.environ[\"GEMINI_API_KEY\"] = os.getenv(\"GEMINI_API_KEY\")\n",
    "llm = ChatGoogleGenerativeAI(model=\"gemini-1.5-flash\", api_key= \"*****************\")"
   ]
  },
  {
   "cell_type": "code",
   "execution_count": 16,
   "id": "49d9d1c4",
   "metadata": {},
   "outputs": [
    {
     "data": {
      "text/plain": [
       "AIMessage(content='Hello there! How can I help you today?', additional_kwargs={}, response_metadata={'prompt_feedback': {'block_reason': 0, 'safety_ratings': []}, 'finish_reason': 'STOP', 'model_name': 'gemini-1.5-flash', 'safety_ratings': []}, id='run--7c40873d-9085-42b4-a3a5-7f6b3a2720d4-0', usage_metadata={'input_tokens': 1, 'output_tokens': 11, 'total_tokens': 12, 'input_token_details': {'cache_read': 0}})"
      ]
     },
     "execution_count": 16,
     "metadata": {},
     "output_type": "execute_result"
    }
   ],
   "source": [
    "llm.invoke(\"Hello\")"
   ]
  },
  {
   "cell_type": "code",
   "execution_count": null,
   "id": "349680f8",
   "metadata": {},
   "outputs": [],
   "source": [
    "def flight_tool(llm):\n",
    "\n",
    "    # ---- Flight Tool ----\n",
    "    \n",
    "    class IATACode(BaseModel):\n",
    "        iata_code: str = Field(description=\"The IATA airport code for the given city. For example, Jaipur -> 'JAI', Manchester -> 'MAN'.\")\n",
    "\n",
    "    class FlightReport(BaseModel):\n",
    "        flight_information: Optional[str] = Field(\n",
    "            description=  \"Generate paragraph of flight information summarizing the options for the given trip\" # \"Summary of flight options for a user’s trip.\"\n",
    "        )\n",
    "\n",
    "    # -------- Flight Summary Prompt --------\n",
    "    flight_prompt = ChatPromptTemplate.from_messages([\n",
    "        (\"system\", \"\"\"Please provide a summary of the following flight details. Include the following information:\n",
    "        Here is the best flights information: {best_flights} \n",
    "        - Flight origin and destination\n",
    "        - Departure and arrival times\n",
    "        - Airline(s)\n",
    "        - Flight duration\n",
    "        - Price information (if available)\n",
    "        - Any additional notable details e.g., stopovers, flight class, etc.\"\"\"),\n",
    "        (\"human\", \"Best Flights Information:\\n\\n{best_flights}\")\n",
    "    ])\n",
    "\n",
    "    structured_flight_llm = llm.with_structured_output(FlightReport)\n",
    "    flight_report_generation = flight_prompt | structured_flight_llm\n",
    "\n",
    "    def flight_finder(state: FlightState) -> dict:\n",
    "        \"\"\"Help to find best flight available from sources to destination\"\"\"\n",
    "        start_city = state.get(\"start_city\")\n",
    "        destination_city = state.get(\"city\")\n",
    "        start_date = state.get(\"start_date\")\n",
    "        end_date = state.get(\"end_date\")\n",
    "\n",
    "        # Define system prompt for IATA\n",
    "        system_msg = SystemMessage(content=\"Provide only the three-letter IATA code for the given city in a JSON object with the key '{iata_code}'. \"\n",
    "        \"If the city has multiple airports, choose the primary or most widely used one based on passenger traffic or common usage. \"\n",
    "        \"For example, if the city is Jaipur, respond with {'iata_code': 'JAI'}. If the city is London, respond with {'iata_code': 'LHR'}. \"\n",
    "        \"If the city is Manchester, respond with {'iata_code': 'MAN'}.\"\n",
    "        \"if the city has no airport give code for nearest city.\")\n",
    "\n",
    "        # Get IATA for start city\n",
    "        iata_start_output = llm.with_structured_output(IATACode).invoke([\n",
    "            system_msg,\n",
    "            HumanMessage(content=f\"What is the IATA code for {start_city}?\")\n",
    "        ])\n",
    "        departure_iata = iata_start_output.iata_code.strip().upper()\n",
    "\n",
    "        # Get IATA for destination city\n",
    "        iata_dest_output = llm.with_structured_output(IATACode).invoke([\n",
    "            system_msg,\n",
    "            HumanMessage(content=f\"What is the IATA code for {destination_city}?\")\n",
    "        ])\n",
    "        arrival_iata = iata_dest_output.iata_code.strip().upper()\n",
    "        if not departure_iata or not arrival_iata:\n",
    "            return {\"flight_report\": \"Could not retrieve IATA codes for the cities.\"}\n",
    "        # Flight search via SerpAPI\n",
    "        search_params = {\n",
    "            \"api_key\": \"**************************\",\n",
    "            \"engine\": \"google_flights\",\n",
    "            \"hl\": \"en\",\n",
    "            \"gl\": \"us\",\n",
    "            \"departure_id\": departure_iata,\n",
    "            \"arrival_id\": arrival_iata,\n",
    "            \"outbound_date\": start_date,\n",
    "            \"return_date\": end_date,\n",
    "            \"currency\": \"USD\",\n",
    "        }\n",
    "\n",
    "        # search = SerpAPIWrapper(serpapi_api_key=search_params[\"api_key\"])\n",
    "        # results = search.run(search_params)\n",
    "        # print(results)\n",
    "        search = GoogleSearch(search_params)\n",
    "        results = search.get_dict()\n",
    "        # Generate flight summary\n",
    "        flight_info = flight_report_generation.invoke({\"best_flights\": results['best_flights']})\n",
    "        return {\"flight_informations\": flight_info}\n",
    "    \n",
    "    return flight_finder\n"
   ]
  },
  {
   "cell_type": "code",
   "execution_count": 24,
   "id": "ced736ee",
   "metadata": {},
   "outputs": [],
   "source": [
    "# Example state data\n",
    "state = {\n",
    "    \"start_city\": \"New York\",\n",
    "    \"city\": \"London\",\n",
    "    \"start_date\": \"2025-07-15\",\n",
    "    \"end_date\": \"2025-07-25\"\n",
    "}\n"
   ]
  },
  {
   "cell_type": "code",
   "execution_count": 25,
   "id": "f6ee2eeb",
   "metadata": {},
   "outputs": [],
   "source": [
    "finder = flight_tool(llm)"
   ]
  },
  {
   "cell_type": "code",
   "execution_count": 31,
   "id": "65a9a0e2",
   "metadata": {},
   "outputs": [],
   "source": [
    "result = finder(state)"
   ]
  },
  {
   "cell_type": "code",
   "execution_count": 32,
   "id": "6413cfa9",
   "metadata": {},
   "outputs": [],
   "source": [
    "from pprint import pprint"
   ]
  },
  {
   "cell_type": "code",
   "execution_count": 34,
   "id": "e609df41",
   "metadata": {},
   "outputs": [
    {
     "name": "stdout",
     "output_type": "stream",
     "text": [
      "{'flight_informations': FlightReport(flight_information='Here are the flight options from John F. Kennedy International Airport (JFK) to Heathrow Airport (LHR) on July 15, 2025.  All flights are roundtrip and in economy class, with a price of $567. Options include British Airways (flight BA 178, 6h 55m flight duration), Virgin Atlantic (flight VS 26, 6h 50m), American Airlines (flight AA 142, 6h 55m), and Delta (flight DL 3, 7h 30m, overnight flight).  Legroom is 31 inches on all flights.  Wi-Fi is available for a fee on most flights except Delta, which offers free Wi-Fi.  In-seat power and USB outlets are available on most flights.')}\n"
     ]
    }
   ],
   "source": [
    "pprint(result)"
   ]
  },
  {
   "cell_type": "code",
   "execution_count": null,
   "id": "eb7e5072",
   "metadata": {},
   "outputs": [],
   "source": []
  }
 ],
 "metadata": {
  "kernelspec": {
   "display_name": ".venv",
   "language": "python",
   "name": "python3"
  },
  "language_info": {
   "codemirror_mode": {
    "name": "ipython",
    "version": 3
   },
   "file_extension": ".py",
   "mimetype": "text/x-python",
   "name": "python",
   "nbconvert_exporter": "python",
   "pygments_lexer": "ipython3",
   "version": "3.12.7"
  }
 },
 "nbformat": 4,
 "nbformat_minor": 5
}
